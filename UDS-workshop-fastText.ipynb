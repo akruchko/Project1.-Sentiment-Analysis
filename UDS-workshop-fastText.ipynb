{
 "cells": [
  {
   "cell_type": "markdown",
   "metadata": {},
   "source": [
    "# FastText\n",
    "<h4 style=\"font-size:14px; font-family:Calibry\" align=\"left\"> Andrii Kruchko </h4>"
   ]
  },
  {
   "cell_type": "markdown",
   "metadata": {},
   "source": [
    "<hr style=\"height: 1px; background-color: #808080\">\n",
    "## Table of Contents\n",
    "\n",
    "1. FastText overview\n",
    "2. Data preprocessing for fastText\n",
    "3. The model training and parameters overview"
   ]
  },
  {
   "cell_type": "markdown",
   "metadata": {
    "slideshow": {
     "slide_type": "slide"
    }
   },
   "source": [
    "<hr style=\"height: 1px; background-color: #808080\">\n",
    "## 1. FastText overview\n",
    "### What is it?\n",
    "\n",
    "FastText is a linear model with a rank constraint and a fast loss approximation.<br>\n",
    "It can obtain the accuracy comparable to deep learning classifiers.<br>\n",
    "\n",
    "But it is way faster:\n",
    "- FastText can train on more than one 200M words in less than five minutes using a standard multicore CPU\n",
    "- Classify nearly 150K reviews in less than a minute"
   ]
  },
  {
   "cell_type": "markdown",
   "metadata": {},
   "source": [
    "<hr style=\"height: 1px; width: 100px; background-color: #808080\"; align=\"left\">"
   ]
  },
  {
   "cell_type": "markdown",
   "metadata": {
    "slideshow": {
     "slide_type": "slide"
    }
   },
   "source": [
    "### Architecture\n",
    "\n",
    "<img src=\"https://raw.githubusercontent.com/akruchko/test/master/1_model_architecture_of_fastText.PNG\">\n",
    "The model architecture of fastText for a sentence with N ngram features x1, . . . , xN .<br> The features are embedded and averaged to form the hidden variable$^1$\n",
    "\n",
    "<hr style=\"height: 1px; width: 100px; background-color: #808080\"; align=\"left\">\n",
    "$^1$ https://arxiv.org/pdf/1607.01759.pdf"
   ]
  },
  {
   "cell_type": "markdown",
   "metadata": {
    "slideshow": {
     "slide_type": "slide"
    }
   },
   "source": [
    "### Algorithm\n",
    "\n",
    "FastText uses the softmax function $f$ to compute the probability distribution over the predefined classes. For a set of N documents, this leads to minimizing the negative loglikelihood over the classes:\n",
    "\n",
    "\n",
    "\\begin{align}\n",
    "\\ -\\frac{1}{N} \\sum_{n=1}^N y_n log(f(BAx_n))\n",
    "\\end{align}\n",
    "$x_n$ - the normalized bag of features of the n-th document, <br>\n",
    "$y_n$ - the label, <br>\n",
    "$A, B$ - weight matrices\n",
    "\n",
    "Optimization is performing using stochastic gradient descent and a linearly decaying learning rate."
   ]
  },
  {
   "cell_type": "markdown",
   "metadata": {},
   "source": [
    "<hr style=\"height: 1px; background-color: #808080\">\n",
    "## 2. Data preprocessing for fastText\n",
    "- remove nonprintable characters\n",
    "- fix $n't$, $'re$, $'s$ and other cases\n",
    "- remove punctuation and digits\n",
    "- Porter stemming"
   ]
  },
  {
   "cell_type": "code",
   "execution_count": 1,
   "metadata": {
    "collapsed": true
   },
   "outputs": [],
   "source": [
    "import pandas as pd\n",
    "\n",
    "from string import punctuation, digits\n",
    "from nltk.stem import PorterStemmer\n",
    "\n",
    "from sklearn.model_selection import train_test_split\n",
    "from sklearn.metrics import accuracy_score, f1_score\n",
    "from fasttext import supervised, load_model"
   ]
  },
  {
   "cell_type": "code",
   "execution_count": 2,
   "metadata": {
    "collapsed": true
   },
   "outputs": [],
   "source": [
    "train = 'data/movie_reviews.csv'\n",
    "test = 'data/test.csv'"
   ]
  },
  {
   "cell_type": "code",
   "execution_count": 3,
   "metadata": {
    "collapsed": true
   },
   "outputs": [],
   "source": [
    "# the helper function for reading the test data\n",
    "import os\n",
    "BASE_DIR = ''\n",
    "TEXT_DATA_DIR = BASE_DIR + 'test/'\n",
    "TEXT_DATA_FILE_1 = \"rt-polarity_neg.txt\"\n",
    "TEXT_DATA_FILE_2 = \"rt-polarity_pos.txt\"\n",
    "HEADER = True\n",
    "\n",
    "def load_data():\n",
    "    x = []\n",
    "    y = []\n",
    "    for i in [TEXT_DATA_FILE_1, TEXT_DATA_FILE_2]:\n",
    "        with open(os.path.join(TEXT_DATA_DIR, i), \"r\", encoding='utf-8', errors='ignore') as f:\n",
    "            if HEADER:\n",
    "                _ = next(f)\n",
    "            if i[-7:-4] == \"pos\":\n",
    "                temp_y = 1\n",
    "            else: temp_y = 0\n",
    "            for line in f:\n",
    "                x.append(line.rstrip(\"\\n\"))\n",
    "                y.append(temp_y)\n",
    "\n",
    "    return x, y"
   ]
  },
  {
   "cell_type": "code",
   "execution_count": 4,
   "metadata": {
    "collapsed": false
   },
   "outputs": [],
   "source": [
    "df_train = pd.read_csv(train).sample(n = 80000, replace=False, random_state=42).reset_index()\n",
    "df_train.reset_index(drop=True, inplace=True)\n",
    "df_test, labels_test = load_data()\n",
    "df_test = pd.DataFrame({'label': labels_test, 'text': df_test})"
   ]
  },
  {
   "cell_type": "code",
   "execution_count": 5,
   "metadata": {
    "collapsed": true
   },
   "outputs": [],
   "source": [
    "# prepare punctuation and digits list for removal\n",
    "translator = str.maketrans('', '', punctuation + digits)\n",
    "\n",
    "# basic preprocessing:\n",
    "def clean_data(df, col):\n",
    "    df['clean_text'] = df[col].str.replace('\\n', '').str.replace('\\r', '').str.replace('\\t', '')\n",
    "    df.clean_text = df.clean_text.str.replace(\"n't\", \" not\").str.replace(\"'re\", \" are\").str.replace(\"'s\", \" s\")\n",
    "    df.clean_text = df.clean_text.str.replace(\"'ve\", \" have\").str.replace(\"'ll\", \" will\").str.replace(\"'d\", \" d\")\n",
    "    df.clean_text = df.clean_text.str.translate(translator).str.strip().str.lower()\n",
    "    return df"
   ]
  },
  {
   "cell_type": "code",
   "execution_count": 6,
   "metadata": {
    "collapsed": false
   },
   "outputs": [],
   "source": [
    "df_train = clean_data(df_train, 'text')\n",
    "df_test = clean_data(df_test, 'text')"
   ]
  },
  {
   "cell_type": "code",
   "execution_count": 7,
   "metadata": {
    "collapsed": false,
    "scrolled": true
   },
   "outputs": [
    {
     "name": "stdout",
     "output_type": "stream",
     "text": [
      "CPU times: user 1min 19s, sys: 48 ms, total: 1min 19s\n",
      "Wall time: 1min 19s\n"
     ]
    }
   ],
   "source": [
    "%%time\n",
    "# Porter stemming\n",
    "stemmer = PorterStemmer()\n",
    "df_train['porter_text'] = df_train['clean_text'].apply(lambda x: ' '.join([stemmer.stem(w) for w in x.split()]))\n",
    "df_train = df_train[df_train.porter_text.apply(len) != 0]\n",
    "df_test['porter_text'] = df_test['clean_text'].apply(lambda x: ' '.join([stemmer.stem(w) for w in x.split()]))"
   ]
  },
  {
   "cell_type": "code",
   "execution_count": 8,
   "metadata": {
    "collapsed": false
   },
   "outputs": [],
   "source": [
    "# splitting on train and validation\n",
    "df_train2, df_val = train_test_split(df_train[['label', 'porter_text']], test_size=0.2, random_state=42)"
   ]
  },
  {
   "cell_type": "code",
   "execution_count": 9,
   "metadata": {
    "collapsed": false
   },
   "outputs": [],
   "source": [
    "# Since fastText can be trained only from text files, we should mark labels. The default is `__label__` but can be custom.\n",
    "df_train2['ft_label'] = df_train2['label'].apply(lambda x: '__label__1 ' if x == 1 else '__label__0 ')\n",
    "df_train2[['ft_label', 'porter_text']].to_csv('data/train_fastText.csv', index=False, header=False)"
   ]
  },
  {
   "cell_type": "markdown",
   "metadata": {},
   "source": [
    "### observations and yet another preprocessing variant\n",
    "\n",
    "Weren't helpful:\n",
    "- default stop words make the model performance worse. The list should be revised or created from scratch\n",
    "- entities removal influences model's results badly. \n",
    "\n",
    "SpaCy lemmatization less aggressive than Porter stemmer"
   ]
  },
  {
   "cell_type": "markdown",
   "metadata": {},
   "source": [
    "<hr style=\"height: 1px; background-color: #808080\">\n",
    "## 3. The model training and parameters overview"
   ]
  },
  {
   "cell_type": "markdown",
   "metadata": {},
   "source": [
    "### The model training"
   ]
  },
  {
   "cell_type": "code",
   "execution_count": 11,
   "metadata": {
    "collapsed": false
   },
   "outputs": [
    {
     "name": "stdout",
     "output_type": "stream",
     "text": [
      "CPU times: user 12 s, sys: 372 ms, total: 12.3 s\n",
      "Wall time: 6.94 s\n"
     ]
    }
   ],
   "source": [
    "%%time\n",
    "# Let's try to train the model with default parameters\n",
    "clf = supervised('data/train_fastText.csv', 'data/fastText_porter', label_prefix='__label__')"
   ]
  },
  {
   "cell_type": "code",
   "execution_count": 12,
   "metadata": {
    "collapsed": false
   },
   "outputs": [],
   "source": [
    "def get_score(df, clf, label='label', text='porter_text', model_name='data/fastText_porter'):\n",
    "  \n",
    "    prediction = clf.predict_proba(list(df[text]))\n",
    "    prediction = [int(item[0][0]) for item in prediction]\n",
    "\n",
    "    print('Accuracy:', round(accuracy_score(list(df[label]), prediction), 4), \n",
    "          'F1:', round(f1_score(list(df[label]), prediction), 4))"
   ]
  },
  {
   "cell_type": "code",
   "execution_count": 13,
   "metadata": {
    "collapsed": false
   },
   "outputs": [
    {
     "name": "stdout",
     "output_type": "stream",
     "text": [
      "Accuracy: 0.8546 F1: 0.8794\n",
      "Accuracy: 0.8056 F1: 0.8378\n"
     ]
    }
   ],
   "source": [
    "# As you can see, the model was overfitted\n",
    "get_score(df_train2, clf)\n",
    "get_score(df_val, clf)"
   ]
  },
  {
   "cell_type": "markdown",
   "metadata": {},
   "source": [
    "### Parameters overview\n",
    "\n",
    "- `lr` - learning rate. Default: **0.1**.\n",
    "- `dim` - size of word vectors in the hidden unit. Default: **100**. Should be less for small datasets and the number of labels.\n",
    "- `epoch` - number of epochs. Default: **5**. Higher for small learning rates.\n",
    "- `min_count` - minimal number of word occurences. Default: **1**. 5 or higher to avoid overfitting.\n",
    "- `word_ngrams` - max length of word ngram. Default: **1**. Higher order ngrams lead to overfitting on small datasets. if value greater than 1 learning rate and epoch should be revised.\n",
    "- `bucket` - number of buckets. Default: **2000000**. Developers recommend to use lower values for small datasets (ex. 100K).\n",
    "- `minn` - min length of char ngram. Default: **0**.\n",
    "- `maxn` - max length of char ngram. Default: **0**."
   ]
  },
  {
   "cell_type": "code",
   "execution_count": 14,
   "metadata": {
    "collapsed": false
   },
   "outputs": [
    {
     "name": "stdout",
     "output_type": "stream",
     "text": [
      "CPU times: user 10.7 s, sys: 284 ms, total: 11 s\n",
      "Wall time: 6.07 s\n"
     ]
    }
   ],
   "source": [
    "%%time\n",
    "# let's train the model with higher minimal number of word occurences\n",
    "clf = supervised('data/train_fastText.csv', 'data/fastText_porter', label_prefix='__label__', \n",
    "                 min_count=5)"
   ]
  },
  {
   "cell_type": "code",
   "execution_count": 15,
   "metadata": {
    "collapsed": false
   },
   "outputs": [
    {
     "name": "stdout",
     "output_type": "stream",
     "text": [
      "Accuracy: 0.8474 F1: 0.874\n",
      "Accuracy: 0.8051 F1: 0.8377\n"
     ]
    }
   ],
   "source": [
    "# as you can see, the model became slightly less overfitted \n",
    "get_score(df_train2, clf)\n",
    "get_score(df_val, clf)"
   ]
  },
  {
   "cell_type": "code",
   "execution_count": 16,
   "metadata": {
    "collapsed": false,
    "scrolled": true
   },
   "outputs": [
    {
     "name": "stdout",
     "output_type": "stream",
     "text": [
      "Accuracy: 0.7693 F1: 0.7896\n"
     ]
    }
   ],
   "source": [
    "# Get score on the test data\n",
    "get_score(df_test, clf)"
   ]
  },
  {
   "cell_type": "markdown",
   "metadata": {},
   "source": [
    "### small exercise\n",
    "\n",
    "Try to improve the previous results using diiferent values of parameters."
   ]
  },
  {
   "cell_type": "code",
   "execution_count": null,
   "metadata": {
    "collapsed": true
   },
   "outputs": [],
   "source": [
    "%%time\n",
    "# let's try to i\n",
    "clf = supervised('data/train_fastText.csv', 'data/fastText_porter', label_prefix='__label__', \n",
    "                # your code here \n",
    "                )"
   ]
  },
  {
   "cell_type": "code",
   "execution_count": null,
   "metadata": {
    "collapsed": true
   },
   "outputs": [],
   "source": [
    "get_score(df_train2, clf)\n",
    "get_score(df_val, clf)"
   ]
  },
  {
   "cell_type": "code",
   "execution_count": null,
   "metadata": {
    "collapsed": true
   },
   "outputs": [],
   "source": [
    "get_score(df_test, clf)"
   ]
  },
  {
   "cell_type": "markdown",
   "metadata": {},
   "source": [
    "## Conclusions\n",
    "\n",
    "- Really fast\n",
    "- It was developed mainly for large datasets (ex. 1 billion words). In case of small datasets hyperparameters should be tuned carefully to avoid overfitting or you shoud get more data."
   ]
  }
 ],
 "metadata": {
  "kernelspec": {
   "display_name": "Python 3",
   "language": "python",
   "name": "python3"
  },
  "language_info": {
   "codemirror_mode": {
    "name": "ipython",
    "version": 3
   },
   "file_extension": ".py",
   "mimetype": "text/x-python",
   "name": "python",
   "nbconvert_exporter": "python",
   "pygments_lexer": "ipython3",
   "version": "3.5.2"
  }
 },
 "nbformat": 4,
 "nbformat_minor": 2
}
